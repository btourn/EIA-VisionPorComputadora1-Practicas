{
 "cells": [
  {
   "cell_type": "markdown",
   "id": "baf16d0c",
   "metadata": {},
   "source": [
    "# ENUNCIADO\n",
    "\n",
    "- Implementar el detector de fondo naive usando la mediana como estimador. El algoritmo debe recibir el parámetro N (cantidad de frames utilizados para la estimación) y el intervalo de tiempo para recalcular el fondo.\n",
    "- Se deben generar las mascaras de foreground y aplicarlas a los frames para segmentar los objetos en movimiento\n",
    "- Comparar con alguno de los métodos vistos en la practica basados en mezcla de gaussianas"
   ]
  },
  {
   "cell_type": "code",
   "execution_count": 134,
   "id": "0872cad6",
   "metadata": {},
   "outputs": [],
   "source": [
    "import numpy as np\n",
    "import cv2 as cv\n",
    "import copy"
   ]
  },
  {
   "cell_type": "markdown",
   "id": "33fdd08c",
   "metadata": {},
   "source": [
    "## Algoritmo de sustraccion de fondo mediante mezclas de Gaussianas (como se presentó en la práctica)"
   ]
  },
  {
   "cell_type": "code",
   "execution_count": 135,
   "id": "bef14ee9",
   "metadata": {},
   "outputs": [],
   "source": [
    "backSub = cv.createBackgroundSubtractorMOG2()"
   ]
  },
  {
   "cell_type": "code",
   "execution_count": 136,
   "id": "8d596b22",
   "metadata": {},
   "outputs": [
    {
     "name": "stdout",
     "output_type": "stream",
     "text": [
      "29.97002997002997 914 30.497133333333334\n"
     ]
    }
   ],
   "source": [
    "# Abrimos el archivo\n",
    "#-------------------\n",
    "filename = 'slow_traffic_small.mp4'\n",
    "capture = cv.VideoCapture(filename)\n",
    "\n",
    "fps = capture.get(cv.CAP_PROP_FPS)      # OpenCV v2.x used \"CV_CAP_PROP_FPS\"\n",
    "frame_count = int(capture.get(cv.CAP_PROP_FRAME_COUNT))\n",
    "duration = frame_count/fps\n",
    "print(fps, frame_count, duration)\n",
    "\n",
    "if not capture.isOpened:\n",
    "    print('Falla al abrir el archivo: ' + filename)\n",
    "    exit(0)\n",
    "\n",
    "# Corremos la sustraccion\n",
    "#------------------------\n",
    "while True:\n",
    "    # Leemos un frame\n",
    "    ret, frame = capture.read()\n",
    "    if frame is None:\n",
    "        break\n",
    "    \n",
    "    # Aplicamos la sustracción al frame leído\n",
    "    #----------------------------------------\n",
    "    # Cada frame se utiliza tanto para calcular la máscara de primer plano como para actualizar el fondo.\n",
    "    # Si se desea cambiar la tasa de aprendizaje utilizada para actualizar el modelo de fondo, es posible\n",
    "    # establecer una tasa de aprendizaje específica pasando un parámetro al método apply.\n",
    "    fgMask = backSub.apply(frame)\n",
    "    \n",
    "    # Escribimos sobre la imagen el número de frame procesado\n",
    "    cv.rectangle(frame, (10, 2), (100,20), (255,255,255), -1)\n",
    "    cv.putText(frame, str(capture.get(cv.CAP_PROP_POS_FRAMES)), (15, 15),\n",
    "               cv.FONT_HERSHEY_SIMPLEX, 0.5 , (0,0,0))\n",
    "    \n",
    "    # mostramos frame original e imagen binaria background/foreground\n",
    "    cv.imshow('Frame', frame)\n",
    "    cv.imshow('FG Mask', fgMask)\n",
    "    \n",
    "    # Corresmos hasta que termine o apriete escape\n",
    "    keyboard = cv.waitKey(30)\n",
    "    if keyboard == 'q' or keyboard == 27:\n",
    "        break\n",
    "\n",
    "cv.destroyAllWindows()\n",
    "capture.release()"
   ]
  },
  {
   "cell_type": "markdown",
   "id": "6308b995",
   "metadata": {},
   "source": [
    "## Implementación de algoritmo Naive Background Subtraction"
   ]
  },
  {
   "cell_type": "markdown",
   "id": "126ee04d",
   "metadata": {},
   "source": [
    "### Funciones auxiliares"
   ]
  },
  {
   "cell_type": "code",
   "execution_count": 137,
   "id": "0131a39f",
   "metadata": {},
   "outputs": [],
   "source": [
    "def procesamientoMorfologico(thresh):\n",
    "    \n",
    "    # Creamos un elemento estructurante y aplicamos operaciones morfologicas\n",
    "    kernel = np.ones((5,5), np.uint8)\n",
    "\n",
    "    # Aplicamos una serie de iteraciones de apertura\n",
    "    opening = cv.morphologyEx(thresh, cv.MORPH_OPEN, kernel, iterations=2)\n",
    "\n",
    "    # Búsqueda del área de objeto (foreground) segura.\n",
    "    # Transformación de distancia (distancia de cada píxel al cero más cercano)\n",
    "    #------------------------------------------------------------------------------------\n",
    "    # Conviene cerrar primero la figura para que no haya agujeros (ceros) dentro de los objetos que afecten la transformada\n",
    "    closing = cv.morphologyEx(opening, cv.MORPH_CLOSE, kernel, iterations=2)\n",
    "    # Ahora sí aplicamos la transformación de distancia\n",
    "    dist_transform = cv.distanceTransform(closing, cv.DIST_L2, maskSize=5)\n",
    "    # Área de objeto (sure foreground) segura. Zona blanca!\n",
    "    ret, sure_fg = cv.threshold(dist_transform, 0.08*dist_transform.max(), 255, 0)\n",
    "    # Búsqueda de la región no definida\n",
    "    sure_fg = np.uint8(sure_fg)\n",
    "    \n",
    "    return sure_fg"
   ]
  },
  {
   "cell_type": "markdown",
   "id": "61630a95",
   "metadata": {},
   "source": [
    "### Funcion para deteccion de fondo mediante método Naive Background Subtraction"
   ]
  },
  {
   "cell_type": "code",
   "execution_count": 145,
   "id": "06dcd9b7",
   "metadata": {},
   "outputs": [],
   "source": [
    "def naiveBS(filename, frame, frame_count, median, N, pm):\n",
    "    \n",
    "    #-------------------------\n",
    "    # Tamaño del fame actual\n",
    "    h, w, _ = frame.shape\n",
    "    \n",
    "    # Si la mediana que la paso es \"None\" la calculo, sino utilizo la que paso como argumento\n",
    "    if median is None:\n",
    "    \n",
    "        # Lista de capturas --> Repito N veces el objecto \"capture\" para no modificar el objeto original\n",
    "        CAP = []\n",
    "        for i in range(N):\n",
    "            CAP.append(cv.VideoCapture(filename))\n",
    "\n",
    "        #-------------------------\n",
    "        # Genero una lista de N numeros aleatorios con los que selecciono los frames asociados\n",
    "        indexes = np.random.randint(0, frame_count, N)\n",
    "        rf_r = np.zeros((h,w,N))\n",
    "        rf_g = np.zeros((h,w,N))\n",
    "        rf_b = np.zeros((h,w,N))\n",
    "        for i, idx in enumerate(indexes):\n",
    "            cap = CAP[i]\n",
    "            cap.set(cv.CAP_PROP_POS_FRAMES, idx)\n",
    "            randomFrame = cap.read()\n",
    "            rf_r[:, :, i] = randomFrame[1][:, :, 0]\n",
    "            rf_g[:, :, i] = randomFrame[1][:, :, 1]\n",
    "            rf_b[:, :, i] = randomFrame[1][:, :, 2]\n",
    "\n",
    "        #-------------------------\n",
    "        # Calculo la mediana de los frames aleatorios (canal a canal)\n",
    "        median_r = np.median(rf_r, axis=2)\n",
    "        median_g = np.median(rf_g, axis=2)\n",
    "        median_b = np.median(rf_b, axis=2)\n",
    "        median = np.dstack((median_r, median_g, median_b))\n",
    "    \n",
    "    #-------------------------\n",
    "    # Resto la mediana al frame actual para obtener la máscara de foreground y casteo a float32\n",
    "    diff = frame - median\n",
    "    diff = np.float32(diff)\n",
    "\n",
    "    #-------------------------\n",
    "    # Paso a escala de grises, casteo a uint8, y binarizo\n",
    "    gray = cv.cvtColor(diff, cv.COLOR_RGB2GRAY)\n",
    "    _, fgMask = cv.threshold(gray.astype(\"uint8\"), 0, 255, cv.THRESH_BINARY+cv.THRESH_OTSU) #cv.THRESH_OTSU) #cv.THRESH_BINARY+\n",
    "\n",
    "    #-------------------------\n",
    "    # Procesamiento morfológico\n",
    "    if pm==1:\n",
    "        fgMask = procesamientoMorfologico(fgMask)\n",
    "    \n",
    "    \n",
    "    return fgMask, median "
   ]
  },
  {
   "cell_type": "markdown",
   "id": "5e0de06b",
   "metadata": {},
   "source": [
    "### Corremos el algoritmo implementado"
   ]
  },
  {
   "cell_type": "code",
   "execution_count": 148,
   "id": "ba8590d6",
   "metadata": {},
   "outputs": [
    {
     "name": "stdout",
     "output_type": "stream",
     "text": [
      "29.97002997002997 914 30.497133333333334\n"
     ]
    }
   ],
   "source": [
    "# Parámetros para correr el método Naive\n",
    "N = 3 #Cantidad de frames aleatorios a seleccionar\n",
    "interval = 2.5 #Intervalo de tiempo (en segundos) donde la mediana calculada se mantiene constante\n",
    "\n",
    "# Abro el archivo\n",
    "#-------------------\n",
    "filename = 'slow_traffic_small.mp4'\n",
    "capture = cv.VideoCapture(filename)\n",
    "\n",
    "# Obtengo datos del video\n",
    "fps = capture.get(cv.CAP_PROP_FPS)\n",
    "frame_count = int(capture.get(cv.CAP_PROP_FRAME_COUNT))\n",
    "duration = frame_count/fps\n",
    "\n",
    "# Inicializo la mediana como \"None\" para calcularla en el primer paso\n",
    "median = None\n",
    "\n",
    "# Indico si deseo aplicar procesamiento morfologico o no\n",
    "pm = 1\n",
    "\n",
    "# Corremos la sustraccion\n",
    "#------------------------\n",
    "cont = 1\n",
    "while True:\n",
    "    \n",
    "    # Tiempo transcurrido\n",
    "    elapsed_time = 1/fps*cont\n",
    "    aux = np.mod(cont, int(fps*interval))\n",
    "    \n",
    "    # Leemos un frame\n",
    "    ret, frame = capture.read()\n",
    "    if frame is None:\n",
    "        break\n",
    "    \n",
    "    # Si llego al limite del tiempo definido por el intervalo, vuelvo a definir la mediana como \"None\"\n",
    "    if np.mod(cont, int(fps*interval))==0:\n",
    "        median = None\n",
    "    \n",
    "    # Obtengo mediana y máscara\n",
    "    fgMask, median = naiveBS(filename, frame, frame_count, median, N, pm) \n",
    "    \n",
    "    # Escribimos sobre la imagen el número de frame procesado\n",
    "    cv.rectangle(frame, (10, 2), (100,20), (255,255,255), -1)\n",
    "    cv.putText(frame, str(capture.get(cv.CAP_PROP_POS_FRAMES)), (15, 15),\n",
    "               cv.FONT_HERSHEY_SIMPLEX, 0.5, (0,0,0))\n",
    "    \n",
    "    # Mostramos frame original e imagen binaria background/foreground\n",
    "    cv.imshow('Frame', frame)\n",
    "    cv.imshow('FG Mask', fgMask)\n",
    "    \n",
    "    # Corremos hasta que termine o apriete escape\n",
    "    keyboard = cv.waitKey(int(duration))\n",
    "    if keyboard == 'q' or keyboard == 27:\n",
    "        break\n",
    "    \n",
    "    # Actualizo contador\n",
    "    cont += 1\n",
    "    \n",
    "cv.destroyAllWindows()\n",
    "capture.release()"
   ]
  },
  {
   "cell_type": "code",
   "execution_count": null,
   "id": "24142fc2",
   "metadata": {},
   "outputs": [],
   "source": []
  },
  {
   "cell_type": "markdown",
   "id": "c26d3e51",
   "metadata": {},
   "source": [
    "## Conclusiones\n",
    "\n",
    "xxxxx"
   ]
  },
  {
   "cell_type": "code",
   "execution_count": null,
   "id": "7d1d40ac",
   "metadata": {},
   "outputs": [],
   "source": []
  }
 ],
 "metadata": {
  "kernelspec": {
   "display_name": "Python 3",
   "language": "python",
   "name": "python3"
  },
  "language_info": {
   "codemirror_mode": {
    "name": "ipython",
    "version": 3
   },
   "file_extension": ".py",
   "mimetype": "text/x-python",
   "name": "python",
   "nbconvert_exporter": "python",
   "pygments_lexer": "ipython3",
   "version": "3.10.4"
  }
 },
 "nbformat": 4,
 "nbformat_minor": 5
}
